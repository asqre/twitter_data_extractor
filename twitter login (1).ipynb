{
 "cells": [
  {
   "cell_type": "code",
   "execution_count": 1,
   "id": "b57cb2ac",
   "metadata": {},
   "outputs": [],
   "source": [
    "# relevent packages and modules\n",
    "from selenium import webdriver\n",
    "from selenium.webdriver.common.keys import Keys\n",
    "from selenium.webdriver.common.by import By\n",
    "from selenium.webdriver.chrome.options import Options\n",
    "from selenium.webdriver.common.action_chains import ActionChains\n",
    "import time\n"
   ]
  },
  {
   "cell_type": "code",
   "execution_count": 3,
   "id": "ff3b3bb7",
   "metadata": {},
   "outputs": [],
   "source": [
    "web_1=\"https://twitter.com/login\" # login_url"
   ]
  },
  {
   "cell_type": "code",
   "execution_count": 4,
   "id": "6f57ef74",
   "metadata": {},
   "outputs": [],
   "source": [
    "# initialize chrome\n",
    "# driver = webdriver.Chrome('C:\\webdriver\\chromedriver.exe')\n",
    "# as path is already set to Environment variable\n",
    "driver = webdriver.Chrome()\n",
    "# open website\n",
    "driver.get(web_1)\n"
   ]
  },
  {
   "cell_type": "code",
   "execution_count": 5,
   "id": "e74bfd57",
   "metadata": {},
   "outputs": [],
   "source": [
    "# input the username \n",
    "driver.find_element(\"xpath\",'//*[@id=\"layers\"]/div/div/div/div/div/div/div[2]/div[2]/div/div/div[2]/div[2]/div/div/div/div[5]/label/div/div[2]/div/input').send_keys('amitana20552611')"
   ]
  },
  {
   "attachments": {},
   "cell_type": "markdown",
   "id": "2ce65fee",
   "metadata": {},
   "source": []
  },
  {
   "cell_type": "code",
   "execution_count": 6,
   "id": "f1ffc391",
   "metadata": {},
   "outputs": [],
   "source": [
    "# connecting to the driver\n",
    "actions = ActionChains(driver)\n",
    "actions.send_keys(Keys.ENTER).perform()"
   ]
  },
  {
   "cell_type": "code",
   "execution_count": 7,
   "id": "1d13ca40",
   "metadata": {},
   "outputs": [],
   "source": [
    "# login with the driver\n",
    "actions.send_keys(\"Amit@1234#\")\n",
    "actions.send_keys(Keys.ENTER).perform()\n",
    "# sleep(1) # desired time to load page according to net speed"
   ]
  },
  {
   "cell_type": "code",
   "execution_count": 8,
   "id": "96a0a07e",
   "metadata": {},
   "outputs": [],
   "source": [
    "driver.refresh()"
   ]
  },
  {
   "cell_type": "code",
   "execution_count": 9,
   "id": "98044911",
   "metadata": {},
   "outputs": [],
   "source": [
    "import pandas as pd"
   ]
  },
  {
   "cell_type": "code",
   "execution_count": 14,
   "id": "df014176",
   "metadata": {},
   "outputs": [],
   "source": [
    "# To  reach the follower page of the user\n",
    "driver.get(\"https://twitter.com/harshO1e/followers\")\n"
   ]
  },
  {
   "cell_type": "code",
   "execution_count": 15,
   "id": "675ff11e",
   "metadata": {},
   "outputs": [],
   "source": [
    "import time\n",
    "\n",
    "scroll_pause_time = 2  # Adjust the sleep duration as needed\n",
    "scroll_height = driver.execute_script(\"return document.body.scrollHeight\")\n",
    "\n",
    "while True:\n",
    "    # scroll page of x cordindate and y cordinate\n",
    "    driver.execute_script(\"window.scrollTo(0, document.body.scrollHeight);\")\n",
    "    time.sleep(scroll_pause_time)\n",
    "    new_scroll_height = driver.execute_script(\"return document.body.scrollHeight\")\n",
    "    \n",
    "    if new_scroll_height == scroll_height:\n",
    "        break\n",
    "        \n",
    "    scroll_height = new_scroll_height"
   ]
  },
  {
   "cell_type": "code",
   "execution_count": 16,
   "id": "c4856f08",
   "metadata": {},
   "outputs": [],
   "source": [
    "# extracting followers data of the user\n",
    "follower_elements = driver.find_elements(\"xpath\",\"//div[@data-testid='UserCell']\")\n",
    "followers = [follower_element.text for follower_element in follower_elements]"
   ]
  },
  {
   "cell_type": "code",
   "execution_count": 17,
   "id": "cea83491",
   "metadata": {},
   "outputs": [
    {
     "data": {
      "text/plain": [
       "['Sandy Robinson\\n@SandyRo58228083\\nFollow',\n",
       " 'Mayank Yadav\\n@Mayankyadav06\\nFollow',\n",
       " 'Anuj\\n@about_Anuj\\nFollow\\nOur curiosity is the essence of our existence. Full stack Developer || Leetcoder',\n",
       " 'Vikash Kumar\\n@kumar_vi_kash\\nFollow',\n",
       " 'Janet\\n@midochess\\nFollow\\nMarried Trade Expert forex/Binary/Bitcoin Investment Crypto currency Trading Cheerful Account Manager Financial Adviser',\n",
       " 'Yukt Kataria\\n@KatariaYukt\\nFollow',\n",
       " 'Adarsh\\n@me_adarsh009\\nFollow\\nAstronaut in the ocean.',\n",
       " \"Shivam Sood\\n@SoodX21\\nFollow\\nWeb development ReactJs | Data Structures | C++ | Looking for opportunities | What's your excuse?\",\n",
       " \"Uttkarsh Singh\\n@uttkarsh_581\\nFollow\\n{ ~Learn ~Code ~Ship } Baller NITJ'23 Find more about me at http://uttkarshsingh.tech http://linkedin.com/in/uttkarsh-si…\",\n",
       " 'Komal Kumari\\n@KomalKu43626988\\nFollow\\nvoid',\n",
       " 'Rajat Rajput\\n@imrajat_rajput\\nFollow\\nHow you doin ? #F.R.I.E.N.D.S #potterhead',\n",
       " 'Tushar Birdi\\n@TusharBirdi\\nFollow\\nNITJian || Flutter developer || Likes to read',\n",
       " 'Lucas_dark\\n@Lucasda31330051\\nFollow\\njust one of ongoing student of a sacred psychs family who have the power to connect. click link to join our team on telegram https://t.me/mushroomtrippysociety…',\n",
       " 'Redefine care and don’t care\\n@boreddictator\\nFollow\\n@mikepompeo\\ntried to cancel me',\n",
       " 'Rahul Singh\\n@am_singhrahul\\nFollow\\nStudent : athlete ::: NCC Cadet : Indian army aspirant : Books, music, films',\n",
       " 'Buhari Iliyasu\\n@BuhariIliyasu3\\nFollow\\nEmpowering Creatives To Handle Business On Blogging And HTML,JAVA,CSS,C++,PHYTON,JAVASCRIPT | And already I am a C.EO At http://Gusauloaded.Ga By Following.And method']"
      ]
     },
     "execution_count": 17,
     "metadata": {},
     "output_type": "execute_result"
    }
   ],
   "source": [
    "followers"
   ]
  },
  {
   "cell_type": "code",
   "execution_count": 18,
   "id": "a40e821c",
   "metadata": {},
   "outputs": [],
   "source": [
    "import pandas as pd\n",
    "# converting the data into dataframe\n",
    "df_followers = pd.DataFrame(followers, columns=[\"followers_Username\"])\n",
    "\n",
    "# df.to_csv(\"followers.csv\", index=False) "
   ]
  },
  {
   "cell_type": "code",
   "execution_count": 19,
   "metadata": {},
   "outputs": [],
   "source": [
    "# df"
   ]
  },
  {
   "cell_type": "code",
   "execution_count": 26,
   "id": "4d88249e",
   "metadata": {},
   "outputs": [],
   "source": [
    "driver.get(\"https://twitter.com/harshO1e/following\")\n"
   ]
  },
  {
   "cell_type": "code",
   "execution_count": 27,
   "id": "e3590944",
   "metadata": {},
   "outputs": [
    {
     "name": "stdout",
     "output_type": "stream",
     "text": [
      "879\n",
      "4826\n",
      "6902\n",
      "9002\n",
      "11258\n",
      "13598\n",
      "15858\n",
      "17806\n",
      "19922\n",
      "22162\n",
      "24342\n",
      "26558\n",
      "28898\n",
      "31074\n",
      "33120\n",
      "35276\n",
      "37312\n",
      "39324\n",
      "40772\n",
      "40772\n"
     ]
    }
   ],
   "source": [
    "import time\n",
    "scroll_pause_time = 2  # Adjust the sleep duration as needed\n",
    "scroll_height = driver.execute_script(\"return document.body.scrollHeight\")\n",
    "print(scroll_height)\n",
    "\n",
    "while True:\n",
    "    driver.execute_script(\"window.scrollTo(0, document.body.scrollHeight);\")\n",
    "    time.sleep(scroll_pause_time)\n",
    "    new_scroll_height = driver.execute_script(\"return document.body.scrollHeight\")\n",
    "    print(new_scroll_height)\n",
    "    if new_scroll_height == scroll_height:\n",
    "        break\n",
    "    \n",
    "    scroll_height = new_scroll_height\n"
   ]
  },
  {
   "cell_type": "code",
   "execution_count": 28,
   "id": "ac54ce39",
   "metadata": {},
   "outputs": [],
   "source": [
    "following_elements = driver.find_elements(\"xpath\",\"//div[@data-testid='UserCell']\")\n",
    "following = [following_elements.text for following_elements in following_elements]"
   ]
  },
  {
   "cell_type": "code",
   "execution_count": 29,
   "id": "d25f0d97",
   "metadata": {},
   "outputs": [
    {
     "data": {
      "text/plain": [
       "['DC Titans\\n@DCTitans\\nFollow\\nit all ends in blood. the final episodes of #dctitans premiere on april 13, only on\\n@hbomax\\n.',\n",
       " 'David F. Sandberg\\n@ponysmasher\\nFollow\\nDirected Shazam 1 & 2/Annabelle Creation/Lights Out. Creates with\\n@lottalosten\\n. YouTube: http://youtube.com/ponysmasher Where to find me: http://ponysmasher.social',\n",
       " 'Ben Affleck\\n@BenAffleck\\nFollow\\nActor, Writer, Director & Producer\\n@PearlStreet\\nFilms\\n@EasternCongo\\nInitiative',\n",
       " 'DC Universe\\n@TheDCUniverse\\nFollow\\nDC Universe is the ultimate DC membership. This first-of-its-kind, digital experience was created just for DC fans.',\n",
       " 'Zack Snyder\\n@ZackSnyder\\nFollow',\n",
       " 'Snyderverse\\n@DCFUnited\\nFollow',\n",
       " 'Rishi Kapoor\\n@chintskap\\nFollow\\nI do not think people are understanding.Any joke,barb, comment on my life style, that will make me block you. Now up to you!',\n",
       " 'zaheer khan\\n@ImZaheer\\nFollow\\nCricketer | Fitness Enthusiast | Owner of ProSport Fitness| ZaheerKhan’S Hospitality | Cheese Cake Lover| Love Mumbai |',\n",
       " 'Yuvraj Singh\\n@YUVSTRONG12\\nFollow\\nYouWeCan',\n",
       " 'Fortis Healthcare\\n@fortis_hospital\\nFollow\\nAdvanced healthcare services for you.',\n",
       " 'Beebom\\n@beebomco\\nFollow\\nBeebom covers technology news, reviews and produce quality tech videos. http://youtube.com/@beebomco',\n",
       " 'Unbox Therapy\\n@UnboxTherapy\\nFollow\\nWhere products get naked.',\n",
       " 'Technical Guruji\\n@technicalgruji\\nFollow',\n",
       " 'Sunil Grover\\n@WhoSunilGrover\\nFollow\\nat home, washing hands with soap',\n",
       " 'Ajey Nagar\\n@CarryMinati\\nFollow\\nDumb Things',\n",
       " 'Bhuvan Bam\\n@Bhuvan_Bam\\nFollow\\nYoutuber at BB Ki Vines, actor, musician and ambitious ladka!',\n",
       " 'Virat Kohli\\n@imVkohli\\nFollow\\nA proud husband and father',\n",
       " 'Rohit Sharma\\n@ImRo45\\nFollow',\n",
       " 'Tanmay Bhat\\n@thetanmay\\nFollow\\nComedian, YouTuber, Investor, building\\n@superteamdao',\n",
       " 'All India Bakchod\\n@AllIndiaBakchod\\nFollow\\nMaking cool shit for young India Chintu Ka Birthday now streaming (Link below)',\n",
       " 'Deepika Padukone\\n@deepikapadukone\\nFollow',\n",
       " 'Sachin Tendulkar\\n@sachin_rt\\nFollow\\nProud Indian | Founder\\n@STF_India',\n",
       " 'WWE WrestleMania\\n@WrestleMania\\nFollow\\n#WrestleMania 39 Goes Hollywood']"
      ]
     },
     "execution_count": 29,
     "metadata": {},
     "output_type": "execute_result"
    }
   ],
   "source": [
    "following"
   ]
  },
  {
   "cell_type": "code",
   "execution_count": 30,
   "id": "b89ce056",
   "metadata": {},
   "outputs": [],
   "source": [
    "import pandas as pd\n",
    "df_following = pd.DataFrame(following, columns=[\"following_username\"])\n",
    "# df.to_csv(\"following.csv\", index=False) "
   ]
  },
  {
   "cell_type": "code",
   "execution_count": 31,
   "id": "00e52109",
   "metadata": {},
   "outputs": [
    {
     "data": {
      "text/html": [
       "<div>\n",
       "<style scoped>\n",
       "    .dataframe tbody tr th:only-of-type {\n",
       "        vertical-align: middle;\n",
       "    }\n",
       "\n",
       "    .dataframe tbody tr th {\n",
       "        vertical-align: top;\n",
       "    }\n",
       "\n",
       "    .dataframe thead th {\n",
       "        text-align: right;\n",
       "    }\n",
       "</style>\n",
       "<table border=\"1\" class=\"dataframe\">\n",
       "  <thead>\n",
       "    <tr style=\"text-align: right;\">\n",
       "      <th></th>\n",
       "      <th>following_username</th>\n",
       "      <th>followers_Username</th>\n",
       "    </tr>\n",
       "  </thead>\n",
       "  <tbody>\n",
       "    <tr>\n",
       "      <th>0</th>\n",
       "      <td>DC Titans\\n@DCTitans\\nFollow\\nit all ends in b...</td>\n",
       "      <td>Sandy Robinson\\n@SandyRo58228083\\nFollow</td>\n",
       "    </tr>\n",
       "    <tr>\n",
       "      <th>1</th>\n",
       "      <td>David F. Sandberg\\n@ponysmasher\\nFollow\\nDirec...</td>\n",
       "      <td>Mayank Yadav\\n@Mayankyadav06\\nFollow</td>\n",
       "    </tr>\n",
       "    <tr>\n",
       "      <th>2</th>\n",
       "      <td>Ben Affleck\\n@BenAffleck\\nFollow\\nActor, Write...</td>\n",
       "      <td>Anuj\\n@about_Anuj\\nFollow\\nOur curiosity is th...</td>\n",
       "    </tr>\n",
       "    <tr>\n",
       "      <th>3</th>\n",
       "      <td>DC Universe\\n@TheDCUniverse\\nFollow\\nDC Univer...</td>\n",
       "      <td>Vikash Kumar\\n@kumar_vi_kash\\nFollow</td>\n",
       "    </tr>\n",
       "    <tr>\n",
       "      <th>4</th>\n",
       "      <td>Zack Snyder\\n@ZackSnyder\\nFollow</td>\n",
       "      <td>Janet\\n@midochess\\nFollow\\nMarried Trade Exper...</td>\n",
       "    </tr>\n",
       "    <tr>\n",
       "      <th>5</th>\n",
       "      <td>Snyderverse\\n@DCFUnited\\nFollow</td>\n",
       "      <td>Yukt Kataria\\n@KatariaYukt\\nFollow</td>\n",
       "    </tr>\n",
       "    <tr>\n",
       "      <th>6</th>\n",
       "      <td>Rishi Kapoor\\n@chintskap\\nFollow\\nI do not thi...</td>\n",
       "      <td>Adarsh\\n@me_adarsh009\\nFollow\\nAstronaut in th...</td>\n",
       "    </tr>\n",
       "    <tr>\n",
       "      <th>7</th>\n",
       "      <td>zaheer khan\\n@ImZaheer\\nFollow\\nCricketer | Fi...</td>\n",
       "      <td>Shivam Sood\\n@SoodX21\\nFollow\\nWeb development...</td>\n",
       "    </tr>\n",
       "    <tr>\n",
       "      <th>8</th>\n",
       "      <td>Yuvraj Singh\\n@YUVSTRONG12\\nFollow\\nYouWeCan</td>\n",
       "      <td>Uttkarsh Singh\\n@uttkarsh_581\\nFollow\\n{ ~Lear...</td>\n",
       "    </tr>\n",
       "    <tr>\n",
       "      <th>9</th>\n",
       "      <td>Fortis Healthcare\\n@fortis_hospital\\nFollow\\nA...</td>\n",
       "      <td>Komal Kumari\\n@KomalKu43626988\\nFollow\\nvoid</td>\n",
       "    </tr>\n",
       "    <tr>\n",
       "      <th>10</th>\n",
       "      <td>Beebom\\n@beebomco\\nFollow\\nBeebom covers techn...</td>\n",
       "      <td>Rajat Rajput\\n@imrajat_rajput\\nFollow\\nHow you...</td>\n",
       "    </tr>\n",
       "    <tr>\n",
       "      <th>11</th>\n",
       "      <td>Unbox Therapy\\n@UnboxTherapy\\nFollow\\nWhere pr...</td>\n",
       "      <td>Tushar Birdi\\n@TusharBirdi\\nFollow\\nNITJian ||...</td>\n",
       "    </tr>\n",
       "    <tr>\n",
       "      <th>12</th>\n",
       "      <td>Technical Guruji\\n@technicalgruji\\nFollow</td>\n",
       "      <td>Lucas_dark\\n@Lucasda31330051\\nFollow\\njust one...</td>\n",
       "    </tr>\n",
       "    <tr>\n",
       "      <th>13</th>\n",
       "      <td>Sunil Grover\\n@WhoSunilGrover\\nFollow\\nat home...</td>\n",
       "      <td>Redefine care and don’t care\\n@boreddictator\\n...</td>\n",
       "    </tr>\n",
       "    <tr>\n",
       "      <th>14</th>\n",
       "      <td>Ajey Nagar\\n@CarryMinati\\nFollow\\nDumb Things</td>\n",
       "      <td>Rahul Singh\\n@am_singhrahul\\nFollow\\nStudent :...</td>\n",
       "    </tr>\n",
       "    <tr>\n",
       "      <th>15</th>\n",
       "      <td>Bhuvan Bam\\n@Bhuvan_Bam\\nFollow\\nYoutuber at B...</td>\n",
       "      <td>Buhari Iliyasu\\n@BuhariIliyasu3\\nFollow\\nEmpow...</td>\n",
       "    </tr>\n",
       "    <tr>\n",
       "      <th>16</th>\n",
       "      <td>Virat Kohli\\n@imVkohli\\nFollow\\nA proud husban...</td>\n",
       "      <td>NaN</td>\n",
       "    </tr>\n",
       "    <tr>\n",
       "      <th>17</th>\n",
       "      <td>Rohit Sharma\\n@ImRo45\\nFollow</td>\n",
       "      <td>NaN</td>\n",
       "    </tr>\n",
       "    <tr>\n",
       "      <th>18</th>\n",
       "      <td>Tanmay Bhat\\n@thetanmay\\nFollow\\nComedian, You...</td>\n",
       "      <td>NaN</td>\n",
       "    </tr>\n",
       "    <tr>\n",
       "      <th>19</th>\n",
       "      <td>All India Bakchod\\n@AllIndiaBakchod\\nFollow\\nM...</td>\n",
       "      <td>NaN</td>\n",
       "    </tr>\n",
       "    <tr>\n",
       "      <th>20</th>\n",
       "      <td>Deepika Padukone\\n@deepikapadukone\\nFollow</td>\n",
       "      <td>NaN</td>\n",
       "    </tr>\n",
       "    <tr>\n",
       "      <th>21</th>\n",
       "      <td>Sachin Tendulkar\\n@sachin_rt\\nFollow\\nProud In...</td>\n",
       "      <td>NaN</td>\n",
       "    </tr>\n",
       "    <tr>\n",
       "      <th>22</th>\n",
       "      <td>WWE WrestleMania\\n@WrestleMania\\nFollow\\n#Wres...</td>\n",
       "      <td>NaN</td>\n",
       "    </tr>\n",
       "  </tbody>\n",
       "</table>\n",
       "</div>"
      ],
      "text/plain": [
       "                                   following_username  \\\n",
       "0   DC Titans\\n@DCTitans\\nFollow\\nit all ends in b...   \n",
       "1   David F. Sandberg\\n@ponysmasher\\nFollow\\nDirec...   \n",
       "2   Ben Affleck\\n@BenAffleck\\nFollow\\nActor, Write...   \n",
       "3   DC Universe\\n@TheDCUniverse\\nFollow\\nDC Univer...   \n",
       "4                    Zack Snyder\\n@ZackSnyder\\nFollow   \n",
       "5                     Snyderverse\\n@DCFUnited\\nFollow   \n",
       "6   Rishi Kapoor\\n@chintskap\\nFollow\\nI do not thi...   \n",
       "7   zaheer khan\\n@ImZaheer\\nFollow\\nCricketer | Fi...   \n",
       "8        Yuvraj Singh\\n@YUVSTRONG12\\nFollow\\nYouWeCan   \n",
       "9   Fortis Healthcare\\n@fortis_hospital\\nFollow\\nA...   \n",
       "10  Beebom\\n@beebomco\\nFollow\\nBeebom covers techn...   \n",
       "11  Unbox Therapy\\n@UnboxTherapy\\nFollow\\nWhere pr...   \n",
       "12          Technical Guruji\\n@technicalgruji\\nFollow   \n",
       "13  Sunil Grover\\n@WhoSunilGrover\\nFollow\\nat home...   \n",
       "14      Ajey Nagar\\n@CarryMinati\\nFollow\\nDumb Things   \n",
       "15  Bhuvan Bam\\n@Bhuvan_Bam\\nFollow\\nYoutuber at B...   \n",
       "16  Virat Kohli\\n@imVkohli\\nFollow\\nA proud husban...   \n",
       "17                      Rohit Sharma\\n@ImRo45\\nFollow   \n",
       "18  Tanmay Bhat\\n@thetanmay\\nFollow\\nComedian, You...   \n",
       "19  All India Bakchod\\n@AllIndiaBakchod\\nFollow\\nM...   \n",
       "20         Deepika Padukone\\n@deepikapadukone\\nFollow   \n",
       "21  Sachin Tendulkar\\n@sachin_rt\\nFollow\\nProud In...   \n",
       "22  WWE WrestleMania\\n@WrestleMania\\nFollow\\n#Wres...   \n",
       "\n",
       "                                   followers_Username  \n",
       "0            Sandy Robinson\\n@SandyRo58228083\\nFollow  \n",
       "1                Mayank Yadav\\n@Mayankyadav06\\nFollow  \n",
       "2   Anuj\\n@about_Anuj\\nFollow\\nOur curiosity is th...  \n",
       "3                Vikash Kumar\\n@kumar_vi_kash\\nFollow  \n",
       "4   Janet\\n@midochess\\nFollow\\nMarried Trade Exper...  \n",
       "5                  Yukt Kataria\\n@KatariaYukt\\nFollow  \n",
       "6   Adarsh\\n@me_adarsh009\\nFollow\\nAstronaut in th...  \n",
       "7   Shivam Sood\\n@SoodX21\\nFollow\\nWeb development...  \n",
       "8   Uttkarsh Singh\\n@uttkarsh_581\\nFollow\\n{ ~Lear...  \n",
       "9        Komal Kumari\\n@KomalKu43626988\\nFollow\\nvoid  \n",
       "10  Rajat Rajput\\n@imrajat_rajput\\nFollow\\nHow you...  \n",
       "11  Tushar Birdi\\n@TusharBirdi\\nFollow\\nNITJian ||...  \n",
       "12  Lucas_dark\\n@Lucasda31330051\\nFollow\\njust one...  \n",
       "13  Redefine care and don’t care\\n@boreddictator\\n...  \n",
       "14  Rahul Singh\\n@am_singhrahul\\nFollow\\nStudent :...  \n",
       "15  Buhari Iliyasu\\n@BuhariIliyasu3\\nFollow\\nEmpow...  \n",
       "16                                                NaN  \n",
       "17                                                NaN  \n",
       "18                                                NaN  \n",
       "19                                                NaN  \n",
       "20                                                NaN  \n",
       "21                                                NaN  \n",
       "22                                                NaN  "
      ]
     },
     "execution_count": 31,
     "metadata": {},
     "output_type": "execute_result"
    }
   ],
   "source": [
    "# concating the both file vertically\n",
    "df=pd.concat([df_following,df_followers],axis=1)\n",
    "df\n"
   ]
  },
  {
   "cell_type": "code",
   "execution_count": 32,
   "id": "7d280874",
   "metadata": {},
   "outputs": [],
   "source": [
    "# saving the file into csv format\n",
    "df.to_csv(\"harsh_following_followers_dataSet.csv\",index=False)"
   ]
  },
  {
   "cell_type": "code",
   "execution_count": null,
   "id": "054dcd86",
   "metadata": {},
   "outputs": [],
   "source": []
  }
 ],
 "metadata": {
  "kernelspec": {
   "display_name": "Python 3 (ipykernel)",
   "language": "python",
   "name": "python3"
  },
  "language_info": {
   "codemirror_mode": {
    "name": "ipython",
    "version": 3
   },
   "file_extension": ".py",
   "mimetype": "text/x-python",
   "name": "python",
   "nbconvert_exporter": "python",
   "pygments_lexer": "ipython3",
   "version": "3.11.4"
  }
 },
 "nbformat": 4,
 "nbformat_minor": 5
}
